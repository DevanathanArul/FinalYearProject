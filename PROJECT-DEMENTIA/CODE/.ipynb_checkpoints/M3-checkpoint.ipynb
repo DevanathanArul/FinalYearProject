{
 "cells": [
  {
   "cell_type": "markdown",
   "id": "f23cd813",
   "metadata": {},
   "source": [
    "# DecisionTreeClassifier"
   ]
  },
  {
   "cell_type": "code",
   "execution_count": null,
   "id": "c7ac72fa",
   "metadata": {},
   "outputs": [],
   "source": [
    "import pandas as pd\n",
    "import matplotlib.pyplot as plt\n",
    "\n",
    "import warnings\n",
    "warnings.filterwarnings('ignore')"
   ]
  },
  {
   "cell_type": "code",
   "execution_count": null,
   "id": "efecb829",
   "metadata": {},
   "outputs": [],
   "source": [
    "data=pd.read_csv('A.csv')\n",
    "data.head()"
   ]
  },
  {
   "cell_type": "code",
   "execution_count": null,
   "id": "d785e357",
   "metadata": {},
   "outputs": [],
   "source": [
    "df=data.dropna()\n",
    "df"
   ]
  },
  {
   "cell_type": "code",
   "execution_count": null,
   "id": "7a0f30c1",
   "metadata": {},
   "outputs": [],
   "source": [
    "df.columns"
   ]
  },
  {
   "cell_type": "code",
   "execution_count": null,
   "id": "0b2c319f",
   "metadata": {},
   "outputs": [],
   "source": [
    "from sklearn.preprocessing import LabelEncoder\n",
    "le = LabelEncoder()\n",
    "\n",
    "var = ['Group','M/F','Hand']\n",
    "  \n",
    "for i in var:\n",
    "    df[i] = le.fit_transform(df[i]).astype(int)"
   ]
  },
  {
   "cell_type": "code",
   "execution_count": null,
   "id": "3f36a6e4",
   "metadata": {},
   "outputs": [],
   "source": [
    "x = df.drop(labels='Group', axis=1)\n",
    "y = df.loc[:,'Group']"
   ]
  },
  {
   "cell_type": "code",
   "execution_count": null,
   "id": "4bb6edac",
   "metadata": {},
   "outputs": [],
   "source": [
    "from sklearn.model_selection import train_test_split\n",
    "x_train, x_test, y_train, y_test = train_test_split(x, y, test_size=0.30, random_state=42, stratify=y)\n",
    "print(\"Number of training dataset : \", len(x_train))\n",
    "print(\"Number of test dataset     : \", len(x_test))\n",
    "print(\"Total number of dataset    : \", len(x_train)+len(x_test))"
   ]
  },
  {
   "cell_type": "code",
   "execution_count": null,
   "id": "4519504c",
   "metadata": {},
   "outputs": [],
   "source": [
    "x_train"
   ]
  },
  {
   "cell_type": "code",
   "execution_count": null,
   "id": "1fa5db0a",
   "metadata": {},
   "outputs": [],
   "source": [
    "from sklearn.metrics import confusion_matrix, classification_report, accuracy_score, hamming_loss\n",
    "from sklearn.model_selection import cross_val_score\n",
    "from sklearn.tree import  DecisionTreeClassifier"
   ]
  },
  {
   "cell_type": "code",
   "execution_count": null,
   "id": "13c940ce",
   "metadata": {},
   "outputs": [],
   "source": [
    "DTC = DecisionTreeClassifier()\n",
    "DTC.fit(x_train,y_train)\n",
    "predicted = DTC.predict(x_test)"
   ]
  },
  {
   "cell_type": "code",
   "execution_count": null,
   "id": "c3cd8937",
   "metadata": {},
   "outputs": [],
   "source": [
    "cr = classification_report(y_test,predicted)\n",
    "print('Classification report of DecisionTreeClassifier Result is:\\n',cr)\n",
    "print(\"\\n\")"
   ]
  },
  {
   "cell_type": "code",
   "execution_count": null,
   "id": "d59ff467",
   "metadata": {},
   "outputs": [],
   "source": [
    "cm = confusion_matrix(y_test,predicted)\n",
    "print('Confusion Matrix result of DecisionTreeClassifier is:\\n',cm)\n",
    "print(\"\\n\")"
   ]
  },
  {
   "cell_type": "code",
   "execution_count": null,
   "id": "75ea4ac8",
   "metadata": {},
   "outputs": [],
   "source": [
    "accuracy = cross_val_score(DTC, x, y, scoring='accuracy')\n",
    "print('Cross validation test results of accuracy:', accuracy*100)\n",
    "print(\"\\n\")"
   ]
  },
  {
   "cell_type": "code",
   "execution_count": null,
   "id": "69ff65f6",
   "metadata": {},
   "outputs": [],
   "source": [
    "a = accuracy.mean() * 100\n",
    "print(\"Mean cross validation score of DecisionTreeClassifier is:\",a)"
   ]
  },
  {
   "cell_type": "code",
   "execution_count": null,
   "id": "3b413200",
   "metadata": {},
   "outputs": [],
   "source": [
    "a = accuracy_score(y_test,predicted)\n",
    "print(\"Accuracy Result of DecisionTreeClassifier is:\", a*100)"
   ]
  },
  {
   "cell_type": "code",
   "execution_count": null,
   "id": "0c8e48d1",
   "metadata": {},
   "outputs": [],
   "source": [
    "hl = hamming_loss(y_test,predicted)\n",
    "print(\"Hamming Loss Of GradientBoostingClassifier is:\", hl*100)"
   ]
  },
  {
   "cell_type": "code",
   "execution_count": null,
   "id": "140e5feb",
   "metadata": {
    "scrolled": true
   },
   "outputs": [],
   "source": [
    "def plot_confusion_matrix(cm, title='Confusion matrix-DecisionTreeClassifier', cmap=plt.cm.cool):\n",
    "    plt.imshow(cm, interpolation='nearest', cmap=cmap)\n",
    "    plt.title(title)\n",
    "    plt.colorbar()\n",
    "\n",
    "cm1=confusion_matrix(y_test, predicted)\n",
    "print('Confusion matrix-DecisionTreeClassifier:')\n",
    "print(cm)\n",
    "plot_confusion_matrix(cm)"
   ]
  },
  {
   "cell_type": "code",
   "execution_count": null,
   "id": "ee5774eb",
   "metadata": {},
   "outputs": [],
   "source": [
    "import matplotlib.pyplot as plt\n",
    "df2 = pd.DataFrame()\n",
    "df2[\"y_test\"] = y_test\n",
    "df2[\"predicted\"] = predicted\n",
    "df2.reset_index(inplace=True)\n",
    "plt.figure(figsize=(20, 5))\n",
    "plt.plot(df2[\"predicted\"][:100], marker='x', linestyle='dashed', color='red')\n",
    "plt.plot(df2[\"y_test\"][:100],  marker='o', linestyle='dashed', color='green')\n",
    "plt.show()"
   ]
  },
  {
   "cell_type": "code",
   "execution_count": null,
   "id": "4328c463",
   "metadata": {},
   "outputs": [],
   "source": []
  },
  {
   "cell_type": "code",
   "execution_count": null,
   "id": "fa875a21",
   "metadata": {},
   "outputs": [],
   "source": []
  }
 ],
 "metadata": {
  "kernelspec": {
   "display_name": "Python 3 (ipykernel)",
   "language": "python",
   "name": "python3"
  },
  "language_info": {
   "codemirror_mode": {
    "name": "ipython",
    "version": 3
   },
   "file_extension": ".py",
   "mimetype": "text/x-python",
   "name": "python",
   "nbconvert_exporter": "python",
   "pygments_lexer": "ipython3",
   "version": "3.9.13"
  }
 },
 "nbformat": 4,
 "nbformat_minor": 5
}
