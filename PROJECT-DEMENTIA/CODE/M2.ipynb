{
 "cells": [
  {
   "cell_type": "code",
   "execution_count": null,
   "id": "6ccab763",
   "metadata": {},
   "outputs": [],
   "source": [
    "import pandas as pd \n",
    "import numpy as n\n",
    "import matplotlib.pyplot as plt\n",
    "import seaborn as sns"
   ]
  },
  {
   "cell_type": "code",
   "execution_count": null,
   "id": "7250875d",
   "metadata": {},
   "outputs": [],
   "source": [
    "d = pd.read_csv('A.csv')\n",
    "d.head()\n"
   ]
  },
  {
   "cell_type": "code",
   "execution_count": null,
   "id": "fb58b7c7",
   "metadata": {},
   "outputs": [],
   "source": [
    "d.columns"
   ]
  },
  {
   "cell_type": "code",
   "execution_count": null,
   "id": "dbb5919e",
   "metadata": {},
   "outputs": [],
   "source": [
    "plt.figure(figsize=(15,5))\n",
    "\n",
    "plt.subplot(1,2,1)\n",
    "plt.hist(d['ASF'],color='red')\n",
    "\n",
    "plt.subplot(1,2,2)\n",
    "plt.hist(d['eTIV'],color='blue')"
   ]
  },
  {
   "cell_type": "code",
   "execution_count": null,
   "id": "5d0b38d5",
   "metadata": {},
   "outputs": [],
   "source": [
    "d.hist(figsize=(15,55),layout=(15,4), color='red')\n",
    "plt.show()"
   ]
  },
  {
   "cell_type": "code",
   "execution_count": null,
   "id": "b2ac96f8",
   "metadata": {},
   "outputs": [],
   "source": [
    "d['nWBV'].hist(figsize=(10,5),color='red')"
   ]
  },
  {
   "cell_type": "code",
   "execution_count": null,
   "id": "65cc0aca",
   "metadata": {},
   "outputs": [],
   "source": [
    "plt.bar(d['Visit'],d['Age'], color='red') # scatter, plot, triplot, stackplot"
   ]
  },
  {
   "cell_type": "code",
   "execution_count": null,
   "id": "38dd59f9",
   "metadata": {},
   "outputs": [],
   "source": [
    "d['SES'].plot(kind='density')"
   ]
  },
  {
   "cell_type": "code",
   "execution_count": null,
   "id": "2ed11694",
   "metadata": {},
   "outputs": [],
   "source": [
    "sns.displot(d['Group'], color='red') \n",
    "# barplot, boxenplot, boxplot, countplot, displot, distplot, ecdfplot, histplot, kdeplot, pointplot, violinplot, stripplot"
   ]
  },
  {
   "cell_type": "code",
   "execution_count": null,
   "id": "322a7f9d",
   "metadata": {},
   "outputs": [],
   "source": [
    "sns.residplot(d['MMSE'],d['CDR'], color='red') # residplot, scatterplot "
   ]
  },
  {
   "cell_type": "code",
   "execution_count": null,
   "id": "c78ba3f9",
   "metadata": {},
   "outputs": [],
   "source": [
    "sns.pairplot(d)"
   ]
  },
  {
   "cell_type": "code",
   "execution_count": null,
   "id": "85d4f618",
   "metadata": {},
   "outputs": [],
   "source": [
    "fig, ax = plt.subplots(figsize=(20,15))\n",
    "sns.heatmap(d.corr(),annot = True, fmt='0.2%',cmap = 'autumn',ax=ax)"
   ]
  },
  {
   "cell_type": "code",
   "execution_count": null,
   "id": "61d0ec17",
   "metadata": {},
   "outputs": [],
   "source": [
    "def plot(d, variable):\n",
    "    dataframe_pie = d[variable].value_counts()\n",
    "    ax = dataframe_pie.plot.pie(figsize=(9,9), autopct='%1.2f%%', fontsize = 10)\n",
    "    ax.set_title(variable + ' \\n', fontsize = 10)\n",
    "    return n.round(dataframe_pie/d.shape[0]*100,2)\n",
    "\n",
    "plot(d, 'Group')"
   ]
  },
  {
   "cell_type": "code",
   "execution_count": null,
   "id": "faea7bee",
   "metadata": {},
   "outputs": [],
   "source": []
  }
 ],
 "metadata": {
  "kernelspec": {
   "display_name": "Python 3 (ipykernel)",
   "language": "python",
   "name": "python3"
  },
  "language_info": {
   "codemirror_mode": {
    "name": "ipython",
    "version": 3
   },
   "file_extension": ".py",
   "mimetype": "text/x-python",
   "name": "python",
   "nbconvert_exporter": "python",
   "pygments_lexer": "ipython3",
   "version": "3.9.13"
  }
 },
 "nbformat": 4,
 "nbformat_minor": 5
}
